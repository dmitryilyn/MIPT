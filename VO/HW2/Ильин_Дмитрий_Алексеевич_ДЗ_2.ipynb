{
 "cells": [
  {
   "cell_type": "code",
   "execution_count": 2,
   "id": "cf9a638c-d00c-4d0f-bb74-fbcd856a5975",
   "metadata": {},
   "outputs": [],
   "source": [
    "import sqlite3 \n",
    "from sqlite3 import Error \n",
    "import pandas as pd"
   ]
  },
  {
   "cell_type": "markdown",
   "id": "8a8ef32b-7a44-4361-8d9f-ed9096869b24",
   "metadata": {},
   "source": [
    "### Объявляем вспомогательные функции"
   ]
  },
  {
   "cell_type": "code",
   "execution_count": 3,
   "id": "780b856f-4eb0-4db8-950e-5506df26719a",
   "metadata": {},
   "outputs": [],
   "source": [
    "def create_connection(path):\n",
    "    connection = None\n",
    "    try:\n",
    "        connection = sqlite3.connect(path)\n",
    "        print(\"Connection to SQLite DB successful\")\n",
    "    except Error as e:\n",
    "        print(f\"The error '{e}' occurred\")\n",
    "\n",
    "    return connection"
   ]
  },
  {
   "cell_type": "code",
   "execution_count": 4,
   "id": "df0dffdc-60a0-494b-8b33-2ad21e57c9a9",
   "metadata": {},
   "outputs": [],
   "source": [
    "def execute_query(connection, query):\n",
    "    cursor = connection.cursor()\n",
    "    try:\n",
    "        cursor.execute(query)\n",
    "        connection.commit()\n",
    "        print(\"Query executed successfully\")\n",
    "    except Error as e:\n",
    "        print(f\"The error '{e}' occurred\")"
   ]
  },
  {
   "cell_type": "markdown",
   "id": "e31b1adc-5ae3-4d61-9ec7-8ad80d942353",
   "metadata": {},
   "source": [
    "### Устанавливаем соединение с базой, создаем таблицу и загружаем csv в таблицу"
   ]
  },
  {
   "cell_type": "code",
   "execution_count": 5,
   "id": "4b15f534-b3a9-4e43-9f42-ae5d6d0f552d",
   "metadata": {},
   "outputs": [
    {
     "name": "stdout",
     "output_type": "stream",
     "text": [
      "Connection to SQLite DB successful\n"
     ]
    }
   ],
   "source": [
    "connection = create_connection(\"transaction.db\")"
   ]
  },
  {
   "cell_type": "code",
   "execution_count": 6,
   "id": "ade499f5-5a69-4523-9947-e81fdf5180ca",
   "metadata": {},
   "outputs": [],
   "source": [
    "create_transation_table = \"\"\"\n",
    "    CREATE TABLE IF NOT EXISTS transaction_bd (\n",
    "        TRANSACTION_ID INTEGER PRIMARY KEY,\n",
    "        TX_DATETIME NUMERIC,\n",
    "        CUSTOMER_ID INTEGER,\n",
    "        TERMINAL_ID INTEGER,\n",
    "        TX_AMOUNT REAL\n",
    "    );\n",
    "\"\"\""
   ]
  },
  {
   "cell_type": "code",
   "execution_count": 7,
   "id": "8b5e9b58-5538-4345-9064-d0ff78a9b779",
   "metadata": {},
   "outputs": [
    {
     "name": "stdout",
     "output_type": "stream",
     "text": [
      "Query executed successfully\n"
     ]
    }
   ],
   "source": [
    "execute_query(connection, create_transation_table)  "
   ]
  },
  {
   "cell_type": "code",
   "execution_count": 8,
   "id": "395a4276-e87f-4b0f-b2b0-a4d139e91073",
   "metadata": {},
   "outputs": [
    {
     "data": {
      "text/plain": [
       "1048575"
      ]
     },
     "execution_count": 8,
     "metadata": {},
     "output_type": "execute_result"
    }
   ],
   "source": [
    "df = pd.read_csv(\"final_transactions.csv\")\n",
    "df.to_sql(\"transaction_bd\", connection, if_exists=\"append\", index=False)"
   ]
  },
  {
   "cell_type": "code",
   "execution_count": 9,
   "id": "ab3d9100-d5ca-44d4-8c79-acdba1aebb89",
   "metadata": {},
   "outputs": [
    {
     "data": {
      "text/html": [
       "<div>\n",
       "<style scoped>\n",
       "    .dataframe tbody tr th:only-of-type {\n",
       "        vertical-align: middle;\n",
       "    }\n",
       "\n",
       "    .dataframe tbody tr th {\n",
       "        vertical-align: top;\n",
       "    }\n",
       "\n",
       "    .dataframe thead th {\n",
       "        text-align: right;\n",
       "    }\n",
       "</style>\n",
       "<table border=\"1\" class=\"dataframe\">\n",
       "  <thead>\n",
       "    <tr style=\"text-align: right;\">\n",
       "      <th></th>\n",
       "      <th>TRANSACTION_ID</th>\n",
       "      <th>TX_DATETIME</th>\n",
       "      <th>CUSTOMER_ID</th>\n",
       "      <th>TERMINAL_ID</th>\n",
       "      <th>TX_AMOUNT</th>\n",
       "    </tr>\n",
       "  </thead>\n",
       "  <tbody>\n",
       "    <tr>\n",
       "      <th>0</th>\n",
       "      <td>0</td>\n",
       "      <td>2023-01-01 00:00:31</td>\n",
       "      <td>596</td>\n",
       "      <td>3156</td>\n",
       "      <td>533.07</td>\n",
       "    </tr>\n",
       "    <tr>\n",
       "      <th>1</th>\n",
       "      <td>1</td>\n",
       "      <td>2023-01-01 00:02:10</td>\n",
       "      <td>4961</td>\n",
       "      <td>3412</td>\n",
       "      <td>808.56</td>\n",
       "    </tr>\n",
       "    <tr>\n",
       "      <th>2</th>\n",
       "      <td>2</td>\n",
       "      <td>2023-01-01 00:07:56</td>\n",
       "      <td>2</td>\n",
       "      <td>1365</td>\n",
       "      <td>1442.94</td>\n",
       "    </tr>\n",
       "    <tr>\n",
       "      <th>3</th>\n",
       "      <td>3</td>\n",
       "      <td>2023-01-01 00:09:29</td>\n",
       "      <td>4128</td>\n",
       "      <td>8737</td>\n",
       "      <td>620.65</td>\n",
       "    </tr>\n",
       "    <tr>\n",
       "      <th>4</th>\n",
       "      <td>4</td>\n",
       "      <td>2023-01-01 00:10:34</td>\n",
       "      <td>927</td>\n",
       "      <td>9906</td>\n",
       "      <td>490.66</td>\n",
       "    </tr>\n",
       "    <tr>\n",
       "      <th>...</th>\n",
       "      <td>...</td>\n",
       "      <td>...</td>\n",
       "      <td>...</td>\n",
       "      <td>...</td>\n",
       "      <td>...</td>\n",
       "    </tr>\n",
       "    <tr>\n",
       "      <th>1048570</th>\n",
       "      <td>1048570</td>\n",
       "      <td>2023-04-20 10:07:13</td>\n",
       "      <td>2380</td>\n",
       "      <td>3780</td>\n",
       "      <td>325.64</td>\n",
       "    </tr>\n",
       "    <tr>\n",
       "      <th>1048571</th>\n",
       "      <td>1048571</td>\n",
       "      <td>2023-04-20 10:07:28</td>\n",
       "      <td>738</td>\n",
       "      <td>5151</td>\n",
       "      <td>20.38</td>\n",
       "    </tr>\n",
       "    <tr>\n",
       "      <th>1048572</th>\n",
       "      <td>1048572</td>\n",
       "      <td>2023-04-20 10:07:33</td>\n",
       "      <td>1000</td>\n",
       "      <td>5417</td>\n",
       "      <td>182.79</td>\n",
       "    </tr>\n",
       "    <tr>\n",
       "      <th>1048573</th>\n",
       "      <td>1048573</td>\n",
       "      <td>2023-04-20 10:07:39</td>\n",
       "      <td>3028</td>\n",
       "      <td>6439</td>\n",
       "      <td>455.44</td>\n",
       "    </tr>\n",
       "    <tr>\n",
       "      <th>1048574</th>\n",
       "      <td>1048574</td>\n",
       "      <td>2023-04-20 10:07:43</td>\n",
       "      <td>3252</td>\n",
       "      <td>6009</td>\n",
       "      <td>304.55</td>\n",
       "    </tr>\n",
       "  </tbody>\n",
       "</table>\n",
       "<p>1048575 rows × 5 columns</p>\n",
       "</div>"
      ],
      "text/plain": [
       "         TRANSACTION_ID          TX_DATETIME  CUSTOMER_ID  TERMINAL_ID  \\\n",
       "0                     0  2023-01-01 00:00:31          596         3156   \n",
       "1                     1  2023-01-01 00:02:10         4961         3412   \n",
       "2                     2  2023-01-01 00:07:56            2         1365   \n",
       "3                     3  2023-01-01 00:09:29         4128         8737   \n",
       "4                     4  2023-01-01 00:10:34          927         9906   \n",
       "...                 ...                  ...          ...          ...   \n",
       "1048570         1048570  2023-04-20 10:07:13         2380         3780   \n",
       "1048571         1048571  2023-04-20 10:07:28          738         5151   \n",
       "1048572         1048572  2023-04-20 10:07:33         1000         5417   \n",
       "1048573         1048573  2023-04-20 10:07:39         3028         6439   \n",
       "1048574         1048574  2023-04-20 10:07:43         3252         6009   \n",
       "\n",
       "         TX_AMOUNT  \n",
       "0           533.07  \n",
       "1           808.56  \n",
       "2          1442.94  \n",
       "3           620.65  \n",
       "4           490.66  \n",
       "...            ...  \n",
       "1048570     325.64  \n",
       "1048571      20.38  \n",
       "1048572     182.79  \n",
       "1048573     455.44  \n",
       "1048574     304.55  \n",
       "\n",
       "[1048575 rows x 5 columns]"
      ]
     },
     "execution_count": 9,
     "metadata": {},
     "output_type": "execute_result"
    }
   ],
   "source": [
    "pd.read_sql(f\"SELECT * FROM transaction_bd\", connection)"
   ]
  },
  {
   "cell_type": "markdown",
   "id": "1bc62010-9d67-4c5e-81e0-f308bf408f77",
   "metadata": {},
   "source": [
    "### A. Все клиенты, у которых сумма транзакций больше 700000 за весь период (сортировка клиентов по возрастанию)"
   ]
  },
  {
   "cell_type": "code",
   "execution_count": 10,
   "id": "2eea0b63-3273-4041-8513-7c4744aa7e87",
   "metadata": {},
   "outputs": [
    {
     "data": {
      "text/html": [
       "<div>\n",
       "<style scoped>\n",
       "    .dataframe tbody tr th:only-of-type {\n",
       "        vertical-align: middle;\n",
       "    }\n",
       "\n",
       "    .dataframe tbody tr th {\n",
       "        vertical-align: top;\n",
       "    }\n",
       "\n",
       "    .dataframe thead th {\n",
       "        text-align: right;\n",
       "    }\n",
       "</style>\n",
       "<table border=\"1\" class=\"dataframe\">\n",
       "  <thead>\n",
       "    <tr style=\"text-align: right;\">\n",
       "      <th></th>\n",
       "      <th>CUSTOMER_ID</th>\n",
       "      <th>SUM_TX_AMOUNT</th>\n",
       "    </tr>\n",
       "  </thead>\n",
       "  <tbody>\n",
       "    <tr>\n",
       "      <th>0</th>\n",
       "      <td>389</td>\n",
       "      <td>753411.90</td>\n",
       "    </tr>\n",
       "    <tr>\n",
       "      <th>1</th>\n",
       "      <td>2249</td>\n",
       "      <td>707478.64</td>\n",
       "    </tr>\n",
       "    <tr>\n",
       "      <th>2</th>\n",
       "      <td>2891</td>\n",
       "      <td>786115.87</td>\n",
       "    </tr>\n",
       "    <tr>\n",
       "      <th>3</th>\n",
       "      <td>3116</td>\n",
       "      <td>721980.69</td>\n",
       "    </tr>\n",
       "    <tr>\n",
       "      <th>4</th>\n",
       "      <td>4163</td>\n",
       "      <td>765153.63</td>\n",
       "    </tr>\n",
       "  </tbody>\n",
       "</table>\n",
       "</div>"
      ],
      "text/plain": [
       "   CUSTOMER_ID  SUM_TX_AMOUNT\n",
       "0          389      753411.90\n",
       "1         2249      707478.64\n",
       "2         2891      786115.87\n",
       "3         3116      721980.69\n",
       "4         4163      765153.63"
      ]
     },
     "execution_count": 10,
     "metadata": {},
     "output_type": "execute_result"
    }
   ],
   "source": [
    "df = pd.read_sql(\n",
    "    f\"\"\"\n",
    "        SELECT \n",
    "            CUSTOMER_ID,\n",
    "            SUM(TX_AMOUNT) AS SUM_TX_AMOUNT\n",
    "        FROM \n",
    "            transaction_bd \n",
    "        GROUP BY\n",
    "            CUSTOMER_ID\n",
    "        HAVING\n",
    "            SUM(TX_AMOUNT) > 700000\n",
    "        ORDER BY\n",
    "            CUSTOMER_ID\n",
    "        ;\n",
    "    \"\"\", connection)\n",
    "df"
   ]
  },
  {
   "cell_type": "markdown",
   "id": "086a74a5-f51b-4fab-bf5e-570bf2bbd768",
   "metadata": {},
   "source": [
    "### B. Все клиенты, у которых сумма транзакций больше 200000 за период 01.01.2023 - 13.01.2023 (сортировка клиентов по возрастанию)"
   ]
  },
  {
   "cell_type": "code",
   "execution_count": 11,
   "id": "3beb2eed-1968-4cd8-8a81-64f72ed4842d",
   "metadata": {},
   "outputs": [
    {
     "data": {
      "text/html": [
       "<div>\n",
       "<style scoped>\n",
       "    .dataframe tbody tr th:only-of-type {\n",
       "        vertical-align: middle;\n",
       "    }\n",
       "\n",
       "    .dataframe tbody tr th {\n",
       "        vertical-align: top;\n",
       "    }\n",
       "\n",
       "    .dataframe thead th {\n",
       "        text-align: right;\n",
       "    }\n",
       "</style>\n",
       "<table border=\"1\" class=\"dataframe\">\n",
       "  <thead>\n",
       "    <tr style=\"text-align: right;\">\n",
       "      <th></th>\n",
       "      <th>CUSTOMER_ID</th>\n",
       "      <th>SUM_TX_AMOUNT</th>\n",
       "    </tr>\n",
       "  </thead>\n",
       "  <tbody>\n",
       "    <tr>\n",
       "      <th>0</th>\n",
       "      <td>1918</td>\n",
       "      <td>241299.96</td>\n",
       "    </tr>\n",
       "    <tr>\n",
       "      <th>1</th>\n",
       "      <td>3406</td>\n",
       "      <td>207733.48</td>\n",
       "    </tr>\n",
       "    <tr>\n",
       "      <th>2</th>\n",
       "      <td>3833</td>\n",
       "      <td>269107.40</td>\n",
       "    </tr>\n",
       "    <tr>\n",
       "      <th>3</th>\n",
       "      <td>4252</td>\n",
       "      <td>220650.36</td>\n",
       "    </tr>\n",
       "  </tbody>\n",
       "</table>\n",
       "</div>"
      ],
      "text/plain": [
       "   CUSTOMER_ID  SUM_TX_AMOUNT\n",
       "0         1918      241299.96\n",
       "1         3406      207733.48\n",
       "2         3833      269107.40\n",
       "3         4252      220650.36"
      ]
     },
     "execution_count": 11,
     "metadata": {},
     "output_type": "execute_result"
    }
   ],
   "source": [
    "df = pd.read_sql(\n",
    "    f\"\"\"\n",
    "        SELECT \n",
    "            CUSTOMER_ID,\n",
    "            SUM(TX_AMOUNT) AS SUM_TX_AMOUNT\n",
    "        FROM \n",
    "            transaction_bd\n",
    "        WHERE\n",
    "            DATE(TX_DATETIME) BETWEEN '2023-01-01' AND '2023-01-13'\n",
    "        GROUP BY\n",
    "            CUSTOMER_ID\n",
    "        HAVING\n",
    "            SUM(TX_AMOUNT) > 200000\n",
    "        ORDER BY\n",
    "            CUSTOMER_ID\n",
    "        ;\n",
    "    \"\"\", connection)\n",
    "df"
   ]
  },
  {
   "cell_type": "markdown",
   "id": "172a4bb9-9cff-4c3a-906f-fa8db2d26497",
   "metadata": {},
   "source": [
    "### C. Клиенты, у которых id начинается с 4 и количество транзакций за весь период более 444"
   ]
  },
  {
   "cell_type": "code",
   "execution_count": 12,
   "id": "d0acc47f-ce95-4c4e-8a0c-f5c104a8a0ea",
   "metadata": {},
   "outputs": [
    {
     "data": {
      "text/html": [
       "<div>\n",
       "<style scoped>\n",
       "    .dataframe tbody tr th:only-of-type {\n",
       "        vertical-align: middle;\n",
       "    }\n",
       "\n",
       "    .dataframe tbody tr th {\n",
       "        vertical-align: top;\n",
       "    }\n",
       "\n",
       "    .dataframe thead th {\n",
       "        text-align: right;\n",
       "    }\n",
       "</style>\n",
       "<table border=\"1\" class=\"dataframe\">\n",
       "  <thead>\n",
       "    <tr style=\"text-align: right;\">\n",
       "      <th></th>\n",
       "      <th>CUSTOMER_ID</th>\n",
       "      <th>TRANSACTION_COUNT</th>\n",
       "    </tr>\n",
       "  </thead>\n",
       "  <tbody>\n",
       "    <tr>\n",
       "      <th>0</th>\n",
       "      <td>4231</td>\n",
       "      <td>451</td>\n",
       "    </tr>\n",
       "    <tr>\n",
       "      <th>1</th>\n",
       "      <td>4539</td>\n",
       "      <td>445</td>\n",
       "    </tr>\n",
       "    <tr>\n",
       "      <th>2</th>\n",
       "      <td>4661</td>\n",
       "      <td>449</td>\n",
       "    </tr>\n",
       "  </tbody>\n",
       "</table>\n",
       "</div>"
      ],
      "text/plain": [
       "   CUSTOMER_ID  TRANSACTION_COUNT\n",
       "0         4231                451\n",
       "1         4539                445\n",
       "2         4661                449"
      ]
     },
     "execution_count": 12,
     "metadata": {},
     "output_type": "execute_result"
    }
   ],
   "source": [
    "df = pd.read_sql(\n",
    "    f\"\"\"\n",
    "        SELECT \n",
    "            CUSTOMER_ID,\n",
    "            COUNT(TRANSACTION_ID) AS TRANSACTION_COUNT\n",
    "        FROM \n",
    "            transaction_bd\n",
    "        WHERE\n",
    "            CAST(CUSTOMER_ID AS VARCHAR) LIKE '4%'\n",
    "        GROUP BY\n",
    "            CUSTOMER_ID\n",
    "        HAVING\n",
    "            COUNT(TRANSACTION_ID) > 444\n",
    "        ORDER BY\n",
    "            CUSTOMER_ID\n",
    "        ;\n",
    "    \"\"\", connection)\n",
    "df"
   ]
  },
  {
   "cell_type": "markdown",
   "id": "bcdc55b6-c127-4ff7-b198-fc94177b807d",
   "metadata": {},
   "source": [
    "### D. Добавление флаг доходности клиентов"
   ]
  },
  {
   "cell_type": "code",
   "execution_count": 13,
   "id": "2f1a7202-81c9-49d0-9076-6c236f5812dc",
   "metadata": {},
   "outputs": [
    {
     "name": "stdout",
     "output_type": "stream",
     "text": [
      "Query executed successfully\n"
     ]
    }
   ],
   "source": [
    "execute_query(connection, \n",
    "    f\"\"\"\n",
    "        CREATE VIEW transaction_with_flag AS\n",
    "        SELECT\n",
    "            CUSTOMER_ID,\n",
    "            SUM(TX_AMOUNT) AS SUM_TX_AMOUNT,\n",
    "            CASE WHEN SUM(TX_AMOUNT) <= 50000\n",
    "                 THEN 'Низкая доходность'\n",
    "                 WHEN SUM(TX_AMOUNT) > 100000\n",
    "                 THEN 'Высокая доходность'\n",
    "                 ELSE 'Средняя доходность'\n",
    "            END AS PROFITABILITY_FLAG\n",
    "        FROM\n",
    "            transaction_bd\n",
    "        GROUP BY\n",
    "            CUSTOMER_ID\n",
    "    \"\"\")"
   ]
  },
  {
   "cell_type": "markdown",
   "id": "2a87a3ad-99da-49c3-9b26-2b36a63e8c5c",
   "metadata": {},
   "source": [
    "### E. Количество клиентов с каждым видом доходности"
   ]
  },
  {
   "cell_type": "code",
   "execution_count": 14,
   "id": "4954a037-5625-4d4a-8e23-0cf6f24630fc",
   "metadata": {},
   "outputs": [
    {
     "data": {
      "text/html": [
       "<div>\n",
       "<style scoped>\n",
       "    .dataframe tbody tr th:only-of-type {\n",
       "        vertical-align: middle;\n",
       "    }\n",
       "\n",
       "    .dataframe tbody tr th {\n",
       "        vertical-align: top;\n",
       "    }\n",
       "\n",
       "    .dataframe thead th {\n",
       "        text-align: right;\n",
       "    }\n",
       "</style>\n",
       "<table border=\"1\" class=\"dataframe\">\n",
       "  <thead>\n",
       "    <tr style=\"text-align: right;\">\n",
       "      <th></th>\n",
       "      <th>PROFITABILITY_FLAG</th>\n",
       "      <th>CNT</th>\n",
       "    </tr>\n",
       "  </thead>\n",
       "  <tbody>\n",
       "    <tr>\n",
       "      <th>0</th>\n",
       "      <td>Высокая доходность</td>\n",
       "      <td>2167</td>\n",
       "    </tr>\n",
       "    <tr>\n",
       "      <th>1</th>\n",
       "      <td>Низкая доходность</td>\n",
       "      <td>1812</td>\n",
       "    </tr>\n",
       "    <tr>\n",
       "      <th>2</th>\n",
       "      <td>Средняя доходность</td>\n",
       "      <td>1007</td>\n",
       "    </tr>\n",
       "  </tbody>\n",
       "</table>\n",
       "</div>"
      ],
      "text/plain": [
       "   PROFITABILITY_FLAG   CNT\n",
       "0  Высокая доходность  2167\n",
       "1   Низкая доходность  1812\n",
       "2  Средняя доходность  1007"
      ]
     },
     "execution_count": 14,
     "metadata": {},
     "output_type": "execute_result"
    }
   ],
   "source": [
    "df = pd.read_sql(\n",
    "    f\"\"\"\n",
    "        SELECT\n",
    "            PROFITABILITY_FLAG,\n",
    "            COUNT(*) AS CNT\n",
    "        FROM\n",
    "            transaction_with_flag\n",
    "        GROUP BY\n",
    "            PROFITABILITY_FLAG\n",
    "        ;\n",
    "    \"\"\", connection)\n",
    "df"
   ]
  },
  {
   "cell_type": "markdown",
   "id": "c067c6ac-2afc-42fa-8613-013d456d5797",
   "metadata": {},
   "source": [
    "### F. Cумма транзакций за каждый день (сортировка по дням по возрастанию)"
   ]
  },
  {
   "cell_type": "code",
   "execution_count": 15,
   "id": "9b62ab09-7db7-4397-acd3-dd0faa575cb0",
   "metadata": {},
   "outputs": [
    {
     "data": {
      "text/html": [
       "<div>\n",
       "<style scoped>\n",
       "    .dataframe tbody tr th:only-of-type {\n",
       "        vertical-align: middle;\n",
       "    }\n",
       "\n",
       "    .dataframe tbody tr th {\n",
       "        vertical-align: top;\n",
       "    }\n",
       "\n",
       "    .dataframe thead th {\n",
       "        text-align: right;\n",
       "    }\n",
       "</style>\n",
       "<table border=\"1\" class=\"dataframe\">\n",
       "  <thead>\n",
       "    <tr style=\"text-align: right;\">\n",
       "      <th></th>\n",
       "      <th>TX_DATE</th>\n",
       "      <th>SUM_TX_AMOUNT</th>\n",
       "    </tr>\n",
       "  </thead>\n",
       "  <tbody>\n",
       "    <tr>\n",
       "      <th>0</th>\n",
       "      <td>2023-01-01</td>\n",
       "      <td>4827656.26</td>\n",
       "    </tr>\n",
       "    <tr>\n",
       "      <th>1</th>\n",
       "      <td>2023-01-02</td>\n",
       "      <td>4862551.41</td>\n",
       "    </tr>\n",
       "    <tr>\n",
       "      <th>2</th>\n",
       "      <td>2023-01-03</td>\n",
       "      <td>5058973.71</td>\n",
       "    </tr>\n",
       "    <tr>\n",
       "      <th>3</th>\n",
       "      <td>2023-01-04</td>\n",
       "      <td>4938142.47</td>\n",
       "    </tr>\n",
       "    <tr>\n",
       "      <th>4</th>\n",
       "      <td>2023-01-05</td>\n",
       "      <td>5002954.23</td>\n",
       "    </tr>\n",
       "    <tr>\n",
       "      <th>...</th>\n",
       "      <td>...</td>\n",
       "      <td>...</td>\n",
       "    </tr>\n",
       "    <tr>\n",
       "      <th>105</th>\n",
       "      <td>2023-04-16</td>\n",
       "      <td>5299386.81</td>\n",
       "    </tr>\n",
       "    <tr>\n",
       "      <th>106</th>\n",
       "      <td>2023-04-17</td>\n",
       "      <td>5100973.31</td>\n",
       "    </tr>\n",
       "    <tr>\n",
       "      <th>107</th>\n",
       "      <td>2023-04-18</td>\n",
       "      <td>5233557.39</td>\n",
       "    </tr>\n",
       "    <tr>\n",
       "      <th>108</th>\n",
       "      <td>2023-04-19</td>\n",
       "      <td>5194846.44</td>\n",
       "    </tr>\n",
       "    <tr>\n",
       "      <th>109</th>\n",
       "      <td>2023-04-20</td>\n",
       "      <td>1795235.72</td>\n",
       "    </tr>\n",
       "  </tbody>\n",
       "</table>\n",
       "<p>110 rows × 2 columns</p>\n",
       "</div>"
      ],
      "text/plain": [
       "        TX_DATE  SUM_TX_AMOUNT\n",
       "0    2023-01-01     4827656.26\n",
       "1    2023-01-02     4862551.41\n",
       "2    2023-01-03     5058973.71\n",
       "3    2023-01-04     4938142.47\n",
       "4    2023-01-05     5002954.23\n",
       "..          ...            ...\n",
       "105  2023-04-16     5299386.81\n",
       "106  2023-04-17     5100973.31\n",
       "107  2023-04-18     5233557.39\n",
       "108  2023-04-19     5194846.44\n",
       "109  2023-04-20     1795235.72\n",
       "\n",
       "[110 rows x 2 columns]"
      ]
     },
     "execution_count": 15,
     "metadata": {},
     "output_type": "execute_result"
    }
   ],
   "source": [
    "df_sum_transactions_per_day = pd.read_sql(\n",
    "    f\"\"\"\n",
    "        SELECT \n",
    "            DATE(TX_DATETIME) AS TX_DATE,\n",
    "            SUM(TX_AMOUNT) AS SUM_TX_AMOUNT\n",
    "        FROM \n",
    "            transaction_bd\n",
    "        GROUP BY\n",
    "            DATE(TX_DATETIME)\n",
    "        ORDER BY\n",
    "            DATE(TX_DATETIME)\n",
    "        ;\n",
    "    \"\"\", connection)\n",
    "df_sum_transactions_per_day"
   ]
  },
  {
   "cell_type": "markdown",
   "id": "02f9b2b9-06ca-4afe-858f-6a490e9d2cc9",
   "metadata": {},
   "source": [
    "### Дашборд"
   ]
  },
  {
   "cell_type": "code",
   "execution_count": null,
   "id": "964896d8-b71b-4145-9f8a-e3ee839df2af",
   "metadata": {},
   "outputs": [],
   "source": [
    "import plotly.express as px\n",
    "import dash\n",
    "import dash_core_components as dcc\n",
    "import dash_html_components as html\n",
    "from dash.dependencies import Input, Output\n",
    "\n",
    "app = dash.Dash()\n",
    "\n",
    "fig1 = px.bar(df_sum_transactions_per_day, x=df_sum_transactions_per_day['TX_DATE'], y=df_sum_transactions_per_day['SUM_TX_AMOUNT'])\n",
    "fig1.update_layout(xaxis_title='Дни', yaxis_title='Сумма транзакций')\n",
    "\n",
    "fig2 = px.histogram(df_sum_transactions_per_day, x=df_sum_transactions_per_day['SUM_TX_AMOUNT'], nbins=100)\n",
    "fig2.update_layout(xaxis_title='Сумма транзакций', yaxis_title='Количество транзакций')\n",
    "\n",
    "app.layout = html.Div(children=[\n",
    "    html.H1(children='Сумма транзакций по дням', style={'text-align': 'center'}),\n",
    "    \n",
    "    html.Div(children='Сумма транзакций по дням', style={'text-align': 'left'}),\n",
    "    html.Div(dcc.Graph(id='graph1', figure = fig1)),\n",
    "    \n",
    "    html.Div(children='Распределение сумм транзакций в день', style={'text-align': 'left'}),\n",
    "    html.Div(dcc.Graph(id='graph2', figure = fig2)),\n",
    "        ])\n",
    "    \n",
    "\n",
    "app.run_server()"
   ]
  },
  {
   "attachments": {
    "10fcf2fa-12ca-43f5-a1f8-0b8f8eaaa932.png": {
     "image/png": "[encoded data removed]"
    }
   },
   "cell_type": "markdown",
   "id": "bbcfa5cd-d7b4-4442-b400-8e36557cbdce",
   "metadata": {},
   "source": [
    "![Screenshot 2023-04-02 at 9.51.19.png](attachment:10fcf2fa-12ca-43f5-a1f8-0b8f8eaaa932.png)"
   ]
  },
  {
   "cell_type": "markdown",
   "id": "c061babc-a9f7-4844-ad43-2c5652ae2b12",
   "metadata": {},
   "source": [
    "### Закрываем соединение"
   ]
  },
  {
   "cell_type": "code",
   "execution_count": null,
   "id": "17822008-058b-4941-b45c-1fe239b8ebf3",
   "metadata": {},
   "outputs": [],
   "source": [
    "connection.close()"
   ]
  }
 ],
 "metadata": {
  "kernelspec": {
   "display_name": "Python 3 (ipykernel)",
   "language": "python",
   "name": "python3"
  },
  "language_info": {
   "codemirror_mode": {
    "name": "ipython",
    "version": 3
   },
   "file_extension": ".py",
   "mimetype": "text/x-python",
   "name": "python",
   "nbconvert_exporter": "python",
   "pygments_lexer": "ipython3",
   "version": "3.9.12"
  }
 },
 "nbformat": 4,
 "nbformat_minor": 5
}
