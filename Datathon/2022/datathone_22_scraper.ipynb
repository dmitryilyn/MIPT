{
 "cells": [
  {
   "cell_type": "code",
   "execution_count": 14,
   "id": "c121fa86-d271-46c6-87c2-93c7206a8462",
   "metadata": {},
   "outputs": [],
   "source": [
    "from bs4 import BeautifulSoup\n",
    "import requests\n",
    "from selenium import webdriver\n",
    "from selenium.webdriver.chrome.service import Service\n",
    "from webdriver_manager.chrome import ChromeDriverManager\n",
    "from selenium.webdriver.common.by import By\n",
    "import time\n",
    "import pandas as pd"
   ]
  },
  {
   "cell_type": "markdown",
   "id": "378c1263-b524-497a-a2ae-35bfbdc6aa17",
   "metadata": {},
   "source": [
    "# 1. Подготавливаем webdriver"
   ]
  },
  {
   "cell_type": "code",
   "execution_count": 15,
   "id": "1d0033a0-956a-4edd-8ae9-d076eed49120",
   "metadata": {},
   "outputs": [],
   "source": [
    "#Service(ChromeDriverManager().install())"
   ]
  },
  {
   "cell_type": "code",
   "execution_count": 16,
   "id": "81cbfa61-0e44-49a0-b258-fe1d920dc2f1",
   "metadata": {},
   "outputs": [],
   "source": [
    "driver = webdriver.Chrome()\n",
    "# Ждем, пока браузер загрузится\n",
    "time.sleep(20)"
   ]
  },
  {
   "cell_type": "markdown",
   "id": "54e15a07-a92d-4df7-abc4-89b96f72333b",
   "metadata": {},
   "source": [
    "# 2. Собираем список ноутбуков"
   ]
  },
  {
   "cell_type": "markdown",
   "id": "0d0e0e9e-de76-456c-89d3-fd48e0366d7e",
   "metadata": {},
   "source": [
    "Объявляем вспомогательную функцию для скрапинга раздела со списком ноутбуков"
   ]
  },
  {
   "cell_type": "code",
   "execution_count": 17,
   "id": "2ccdcba0-0aa4-4901-a669-ee9605247dd7",
   "metadata": {},
   "outputs": [],
   "source": [
    "def scrap_laptop_list(driver, depth=10, verbose=True):\n",
    "    laptop_list = pd.DataFrame(columns=['id', 'brand', 'product', 'price', 'rating', 'votes'])\n",
    "    \n",
    "    for i in range(1, depth + 1):\n",
    "        if verbose:\n",
    "            print('Scraping page', i)\n",
    "            \n",
    "        # Запрашиваем страницу с порядковым номером i\n",
    "        url = 'https://www.wildberries.ru/catalog/elektronika/noutbuki-pereferiya/noutbuki-ultrabuki?sort=popular&page=' + str(i)\n",
    "        driver.get(url)\n",
    "        # Ждем 15 секунд, чтобы страница успела загрузиться\n",
    "        time.sleep(15)\n",
    "        \n",
    "        # Вытаскиваем нужный div со списком ноутбуков и передаем парсеру\n",
    "        element = driver.find_element(By.XPATH, \"//div[@class='product-card-list']\")\n",
    "        html = element.get_attribute('outerHTML')\n",
    "        bs = BeautifulSoup(html, 'html.parser')\n",
    "        \n",
    "        # Парсим список ноутбуков\n",
    "        pcl_tag = bs.find('div', class_='product-card-list')\n",
    "        for element in pcl_tag:\n",
    "            if element.name == 'div':\n",
    "                                    \n",
    "                # Вытаскиваем ID ноутбука\n",
    "                id = int(element['data-popup-nm-id'])\n",
    "                #print(id)\n",
    "        \n",
    "                # Вытаскиваем название бренда\n",
    "                brand_tag = element.find('strong', class_='brand-name')\n",
    "                brand = brand_tag.text\n",
    "                #print(brand)\n",
    "        \n",
    "                # Вытаскиваем краткое описание ноутбука\n",
    "                product_tag = element.find('span', class_='goods-name')\n",
    "                product = product_tag.text.replace('Ноутбук ', '').replace(',', '')\n",
    "                #print(product)\n",
    "                \n",
    "                # Вытаскиваем цену\n",
    "                price_tag = element.find('ins', class_='price__lower-price')\n",
    "                if price_tag is None:\n",
    "                    price_tag = element.find('span', class_='price__lower-price')\n",
    "                price = int(price_tag.text.replace(' ', '').replace('₽', '').replace(u'\\xa0', ''))\n",
    "                #print(price)\n",
    "\n",
    "                # Вытаскиваем рейтинг\n",
    "                rating = 0\n",
    "                for r in range(0, 6):\n",
    "                    if element.find('span', class_='product-card__rating stars-line star' + str(r)) is not None:\n",
    "                        rating = r\n",
    "                        break\n",
    "                #print(rating)\n",
    "                \n",
    "                # Вытаскиваем число проголосовавших\n",
    "                votes_tag = element.find('span', class_='product-card__count')\n",
    "                votes = int(votes_tag.text)\n",
    "                #print(votes)\n",
    "                        \n",
    "                laptop_list.loc[len(laptop_list.index)] = [\n",
    "                    id,\n",
    "                    brand,\n",
    "                    product,\n",
    "                    price,\n",
    "                    rating,\n",
    "                    votes\n",
    "                ]\n",
    "        \n",
    "    return laptop_list"
   ]
  },
  {
   "cell_type": "code",
   "execution_count": 18,
   "id": "9182dc3d-71f8-447f-80ae-0632264602aa",
   "metadata": {},
   "outputs": [
    {
     "name": "stdout",
     "output_type": "stream",
     "text": [
      "Scraping page 1\n",
      "Scraping page 2\n",
      "Scraping page 3\n",
      "Scraping page 4\n",
      "Scraping page 5\n",
      "Scraping page 6\n",
      "Scraping page 7\n",
      "Scraping page 8\n",
      "Scraping page 9\n",
      "Scraping page 10\n"
     ]
    }
   ],
   "source": [
    "laptop_list = scrap_laptop_list(driver)"
   ]
  },
  {
   "cell_type": "code",
   "execution_count": 19,
   "id": "7a99f567-8d4e-4837-8f91-ed58c1c298d2",
   "metadata": {},
   "outputs": [
    {
     "data": {
      "text/html": [
       "<div>\n",
       "<style scoped>\n",
       "    .dataframe tbody tr th:only-of-type {\n",
       "        vertical-align: middle;\n",
       "    }\n",
       "\n",
       "    .dataframe tbody tr th {\n",
       "        vertical-align: top;\n",
       "    }\n",
       "\n",
       "    .dataframe thead th {\n",
       "        text-align: right;\n",
       "    }\n",
       "</style>\n",
       "<table border=\"1\" class=\"dataframe\">\n",
       "  <thead>\n",
       "    <tr style=\"text-align: right;\">\n",
       "      <th></th>\n",
       "      <th>id</th>\n",
       "      <th>brand</th>\n",
       "      <th>product</th>\n",
       "      <th>price</th>\n",
       "      <th>rating</th>\n",
       "      <th>votes</th>\n",
       "    </tr>\n",
       "  </thead>\n",
       "  <tbody>\n",
       "    <tr>\n",
       "      <th>0</th>\n",
       "      <td>103561157</td>\n",
       "      <td>Irbis</td>\n",
       "      <td>NB283 14\" N3350 14\" 1366*768 IPS</td>\n",
       "      <td>13738</td>\n",
       "      <td>5</td>\n",
       "      <td>68</td>\n",
       "    </tr>\n",
       "    <tr>\n",
       "      <th>1</th>\n",
       "      <td>132248430</td>\n",
       "      <td>Realme</td>\n",
       "      <td>Intel Core i5 2.4ГГц 16ГБ 512ГБ</td>\n",
       "      <td>67191</td>\n",
       "      <td>5</td>\n",
       "      <td>8</td>\n",
       "    </tr>\n",
       "    <tr>\n",
       "      <th>2</th>\n",
       "      <td>139308234</td>\n",
       "      <td>Acer</td>\n",
       "      <td>Nitro 5 AN515-45</td>\n",
       "      <td>64061</td>\n",
       "      <td>5</td>\n",
       "      <td>1</td>\n",
       "    </tr>\n",
       "    <tr>\n",
       "      <th>3</th>\n",
       "      <td>133573452</td>\n",
       "      <td>Irbis</td>\n",
       "      <td>NB290 15.6\" N4020 3200x1800 IPS 4+128G</td>\n",
       "      <td>16661</td>\n",
       "      <td>5</td>\n",
       "      <td>23</td>\n",
       "    </tr>\n",
       "    <tr>\n",
       "      <th>4</th>\n",
       "      <td>134148789</td>\n",
       "      <td>lenovo</td>\n",
       "      <td>IdeaPad 3 15IML05</td>\n",
       "      <td>41862</td>\n",
       "      <td>3</td>\n",
       "      <td>2</td>\n",
       "    </tr>\n",
       "    <tr>\n",
       "      <th>...</th>\n",
       "      <td>...</td>\n",
       "      <td>...</td>\n",
       "      <td>...</td>\n",
       "      <td>...</td>\n",
       "      <td>...</td>\n",
       "      <td>...</td>\n",
       "    </tr>\n",
       "    <tr>\n",
       "      <th>926</th>\n",
       "      <td>81972518</td>\n",
       "      <td>lenovo</td>\n",
       "      <td>ноудбуки</td>\n",
       "      <td>42737</td>\n",
       "      <td>0</td>\n",
       "      <td>0</td>\n",
       "    </tr>\n",
       "    <tr>\n",
       "      <th>927</th>\n",
       "      <td>96065157</td>\n",
       "      <td>Daurenovna</td>\n",
       "      <td>Lenovo V14-ADA 82C6S03900 серый</td>\n",
       "      <td>37890</td>\n",
       "      <td>0</td>\n",
       "      <td>0</td>\n",
       "    </tr>\n",
       "    <tr>\n",
       "      <th>928</th>\n",
       "      <td>96146919</td>\n",
       "      <td>CHUWI</td>\n",
       "      <td>GemiBook 8Gb 256Gb 4C4T2</td>\n",
       "      <td>35856</td>\n",
       "      <td>0</td>\n",
       "      <td>0</td>\n",
       "    </tr>\n",
       "    <tr>\n",
       "      <th>929</th>\n",
       "      <td>133744288</td>\n",
       "      <td>lenovo</td>\n",
       "      <td>IdeaPad L3 Celeron 6305 4ГБ 1000HDD</td>\n",
       "      <td>34990</td>\n",
       "      <td>0</td>\n",
       "      <td>0</td>\n",
       "    </tr>\n",
       "    <tr>\n",
       "      <th>930</th>\n",
       "      <td>128700131</td>\n",
       "      <td>A.O.S</td>\n",
       "      <td>Leap T304 PT00070 белый</td>\n",
       "      <td>26500</td>\n",
       "      <td>0</td>\n",
       "      <td>0</td>\n",
       "    </tr>\n",
       "  </tbody>\n",
       "</table>\n",
       "<p>931 rows × 6 columns</p>\n",
       "</div>"
      ],
      "text/plain": [
       "            id       brand                                 product  price  \\\n",
       "0    103561157       Irbis        NB283 14\" N3350 14\" 1366*768 IPS  13738   \n",
       "1    132248430      Realme         Intel Core i5 2.4ГГц 16ГБ 512ГБ  67191   \n",
       "2    139308234        Acer                        Nitro 5 AN515-45  64061   \n",
       "3    133573452       Irbis  NB290 15.6\" N4020 3200x1800 IPS 4+128G  16661   \n",
       "4    134148789      lenovo                       IdeaPad 3 15IML05  41862   \n",
       "..         ...         ...                                     ...    ...   \n",
       "926   81972518      lenovo                                ноудбуки  42737   \n",
       "927   96065157  Daurenovna         Lenovo V14-ADA 82C6S03900 серый  37890   \n",
       "928   96146919       CHUWI                GemiBook 8Gb 256Gb 4C4T2  35856   \n",
       "929  133744288      lenovo     IdeaPad L3 Celeron 6305 4ГБ 1000HDD  34990   \n",
       "930  128700131       A.O.S                 Leap T304 PT00070 белый  26500   \n",
       "\n",
       "     rating  votes  \n",
       "0         5     68  \n",
       "1         5      8  \n",
       "2         5      1  \n",
       "3         5     23  \n",
       "4         3      2  \n",
       "..      ...    ...  \n",
       "926       0      0  \n",
       "927       0      0  \n",
       "928       0      0  \n",
       "929       0      0  \n",
       "930       0      0  \n",
       "\n",
       "[931 rows x 6 columns]"
      ]
     },
     "execution_count": 19,
     "metadata": {},
     "output_type": "execute_result"
    }
   ],
   "source": [
    "laptop_list"
   ]
  },
  {
   "cell_type": "markdown",
   "id": "37e5866a-5edf-4c84-8aba-77f66f91993d",
   "metadata": {},
   "source": [
    "Выгружаем список ноутбуков"
   ]
  },
  {
   "cell_type": "code",
   "execution_count": 20,
   "id": "3ed157d9-b545-490f-8660-5ff65c95314a",
   "metadata": {},
   "outputs": [],
   "source": [
    "laptop_list.to_csv('wb_laptop_list.csv', index=False)"
   ]
  },
  {
   "cell_type": "markdown",
   "id": "fdc54150-6b82-4940-b854-38eabf977e99",
   "metadata": {},
   "source": [
    "# 3. Собираем характеристики ноутбуков"
   ]
  },
  {
   "cell_type": "markdown",
   "id": "71fd31c3-391c-4400-93b6-ac55fe7c36ab",
   "metadata": {},
   "source": [
    "В процессе..."
   ]
  },
  {
   "cell_type": "markdown",
   "id": "e8d4222d-b951-49a5-8eb0-af4acf717df0",
   "metadata": {},
   "source": [
    "# 4. Закрываем webdriver"
   ]
  },
  {
   "cell_type": "code",
   "execution_count": 21,
   "id": "4da1b7bd-17dd-43d3-a961-c4ec8d902bd6",
   "metadata": {},
   "outputs": [],
   "source": [
    "driver.quit()"
   ]
  },
  {
   "cell_type": "code",
   "execution_count": null,
   "id": "22ca0501-955e-41d1-8845-bde620cb4bb5",
   "metadata": {},
   "outputs": [],
   "source": []
  }
 ],
 "metadata": {
  "kernelspec": {
   "display_name": "Python 3 (ipykernel)",
   "language": "python",
   "name": "python3"
  },
  "language_info": {
   "codemirror_mode": {
    "name": "ipython",
    "version": 3
   },
   "file_extension": ".py",
   "mimetype": "text/x-python",
   "name": "python",
   "nbconvert_exporter": "python",
   "pygments_lexer": "ipython3",
   "version": "3.9.12"
  }
 },
 "nbformat": 4,
 "nbformat_minor": 5
}
